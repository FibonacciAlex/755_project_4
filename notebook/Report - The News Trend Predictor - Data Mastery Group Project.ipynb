{
 "cells": [
  {
   "cell_type": "markdown",
   "id": "f9b735e2",
   "metadata": {},
   "source": [
    "# The News Trend Predictor - Research & Development of News Trend Prediction Strategies & Methodologies\n",
    "\n",
    "#### Student Names & IDs:\n",
    "- Liam Fitzmaurice - S.N. 14027149\n",
    "- Shance Zhao (Alex) - S.N. 24013122\n",
    "- Zhuonan Mai (Miranda) - S.N. 19044660\n",
    "\n",
    "\n",
    "# Introduction\n",
    "Group 2 presents the development of The News Trend Predictor app - a web app targeted at journalists, social media personalities/marketers, and anyone wishing to know the likely relevancy of a news item in the near future, based on its recent trajectory.\n",
    "\n",
    "The News Trend Predictor’s target prediction variable is the Google Trend of the given news text string - this is a self-relative and normalised (to a 0-100 range) measure of popularity based on the number of Google searches containing the string - using this as the target variable is directly relevant to the target users, as it is useful data to have for developing search engine optimisation strategies when publishing news articles, writing social media posts, or generating any content that relies on algorithmic content discovery to reach viewers.\n",
    "This report documents our journey through the data wrangling, analysis, predictive modelling, and app development processes, the successes and roadblocks we faced, and our resulting key findings.\n",
    "\n",
    "\n",
    "#### Datasets used:\n",
    "1. Google Search Trend data for each relative News Item analysed.\n",
    "2. Custom-generated calendar dataset.\n",
    "3. Custom-generated dataset of each relative News Item’s most popular keyword-related YouTube videos during the given timeframes.\n",
    "\n",
    "\n",
    "#### Dataset sources: \n",
    "1. Trend data is scraped from https://trends.google.com/trends/ using the Python model “PyTrends”.\n",
    "2. The calendar dataset was internally created by Group 4.\n",
    "3. Data is fetched from YouTube API through community-donated API keys at https://yt.lemnoslife.com/\n",
    "\n",
    "\n",
    "### Research Questions\n",
    "1. Are prediction algorithms effective in predicting the popularity trend of individual news items?\n",
    "2. How do the quality and source of data impact the reliability of news trend forecasts?\n",
    "3. What is the relationship between the data and different categories/types of news (e.g. short-term, medium-term, and long-term news items)?\n",
    "4. Which machine learning algorithms are most effective and appropriate for this type of prediction/forecast?\n",
    "\n",
    "\n",
    "### Executive Summary\n",
    "The News Trend Predictor app forecasts the relevancy of news items by leveraging Google Trend data, normalised to a 0-100 scale. Aimed at journalists and content creators, the app uses historical data from YouTube and Google Trends to overcome access restrictions on other platforms.\n",
    "Our research explored the effectiveness of prediction algorithms, data quality impacts, and optimal machine learning methods. Key findings indicate that small datasets and highly correlated features can lead to overfitting and poor predictive performance, underscoring the need for adequate data and efficient feature selection."
   ]
  },
  {
   "cell_type": "markdown",
   "id": "3a9d1f5c",
   "metadata": {},
   "source": [
    "#### Modules"
   ]
  },
  {
   "cell_type": "code",
   "execution_count": 4,
   "id": "050e2de2",
   "metadata": {},
   "outputs": [],
   "source": [
    "import pandas as pd\n",
    "import numpy as np\n",
    "import matplotlib.pyplot as plt\n",
    "import matplotlib as mpl\n",
    "import statistics\n",
    "import plotly.graph_objs as go\n",
    "from datetime import datetime\n",
    "import math\n",
    "import json\n",
    "from pathlib import Path\n",
    "import time\n",
    "from TrendProcesses import FetchData, CreateFeatures, RunAnalysis, RunModels\n",
    "import plotly.express as px\n",
    "\n",
    "import seaborn as sns    \n",
    "from sklearn.preprocessing import RobustScaler, StandardScaler,MinMaxScaler\n",
    "from sklearn import preprocessing\n",
    "from sklearn.model_selection import train_test_split\n",
    "from sklearn.linear_model import LinearRegression\n",
    "from sklearn.neighbors import KNeighborsRegressor,KNeighborsClassifier\n",
    "from sklearn.metrics import mean_absolute_error,mean_squared_error,r2_score,accuracy_score\n",
    "import statsmodels.formula.api as smf\n",
    "#from handle_model_util import handle_yt_data, handle_tr_data,normalize_trend\n",
    "from pylab import rcParams\n",
    "rcParams['figure.dpi'] = 150\n",
    "rcParams['lines.linewidth'] = 2\n",
    "rcParams['axes.facecolor'] = 'white'\n",
    "rcParams['patch.edgecolor'] = 'white'\n",
    "rcParams['font.family'] = 'StixGeneral'"
   ]
  },
  {
   "cell_type": "markdown",
   "id": "037049cf",
   "metadata": {},
   "source": [
    "# Data Wrangling\n",
    "At the beginning of our project, we faced significant challenges in our attempts to find and integrate historic hashtag and \"keyword mention\" data sources. Many websites, including major platforms such as X, Meta (Facebook and Instagram) and TikTok, require application registration, the upload of personal identification, and a clear explanation of the data collection purpose. This process proved to be cumbersome and time-consuming, often resulting in delays and additional administrative burdens. Despite these efforts, access to the desired historical data remained limited, prompting us to explore alternative sources.\n",
    "\n",
    "In order to use readily accessable hashtag and keyword mention data from these sources, we would need to create an automatic script to fetch predetermined news item strings from their respective API's, run it daily, and use the results to build our own historic datasets - doing this would severely limit any app functionality, as the selected news items would need to be known up to 30 days in advance, which is not possible.\n",
    "\n",
    "Ultimately, we settled on using YouTube and Google trends data for our project. YouTube provided a readily-accessible repository of historical content and keyword mentions, while calendar data offered valuable insights into trends and events over time. This combination allowed us to circumvent the stringent requirements of other platforms and focus on the analysis and integration of accessible and relevant data, thus streamlining our research process and enhancing the quality of our findings.\n",
    "\n",
    "Liam noted the similarity of data sources from a prior project of his - but that our usage is significantly different enough to warrant using them, and that our results would differ due to this. Specifically, that we are purely using YouTube data as predictive features to predict the Google Trend (and not YouTube views), that our gathered data is not limited to a single YouTube account, our use of external calendar features, and our project having vastly different research goals.\n",
    "\n",
    "After testing the data gathering methods below, we decided to limit our scope to 30 days of gathered data, and limit forecast predictions made from that data to a maximum of 1 day."
   ]
  },
  {
   "cell_type": "markdown",
   "id": "848efd79",
   "metadata": {},
   "source": [
    "#### Data Gathering\n",
    "For each news item, the following steps are taken:\n",
    "1. Google Trends data is fetched for the news item string (1 API call).\n",
    "2. 30 YouTube api calls are made to gather the top 1-3 videos relevant to the news item string (30 API calls).\n",
    "3. 1 API call is made for each video ID fetched, to gather video statistics (30-90 API calls).\n",
    "\n",
    "The code below is commented out and replaced with a raw csv data read - data is for the news item \"Palistine\" - data is aligned later:"
   ]
  },
  {
   "cell_type": "code",
   "execution_count": 5,
   "id": "20bd9f24",
   "metadata": {},
   "outputs": [
    {
     "name": "stdout",
     "output_type": "stream",
     "text": [
      "Trend data:\n",
      "         date  palistine\n",
      "0  2024-05-01         97\n",
      "1  2024-05-02        100\n",
      "2  2024-05-03         48\n",
      "3  2024-05-04         44\n",
      "4  2024-05-05         42\n",
      "\n",
      "YouTube Initial data:\n",
      "         date  views  likes  comments\n",
      "0  2024-05-03  17894   3611        99\n",
      "1  2024-05-03  18462   1718       104\n",
      "2  2024-05-03  43857  10830       273\n",
      "3  2024-05-04  90220    730       794\n",
      "4  2024-05-04  14960   1418        75\n"
     ]
    }
   ],
   "source": [
    "\n",
    "\n",
    "#data_fetcher = FetchData(raw_data_loader)\n",
    "#trend, yt_data = data_fetcher.fetch_and_return_final_df_list(\"palistine\")\n",
    "\n",
    "\n",
    "all_trends = pd.read_csv('./data/test_trends_data.csv')\n",
    "trend = all_trends.loc[:, [\"date\", all_trends.columns[1]]]\n",
    "yt_data = pd.read_csv('./data/test_yt_data.csv')\n",
    "\n",
    "print(\"Trend data:\")\n",
    "print(trend.head())\n",
    "print('')\n",
    "print(\"YouTube Initial data:\")\n",
    "print(yt_data.head())"
   ]
  },
  {
   "cell_type": "markdown",
   "id": "dc8a4799",
   "metadata": {},
   "source": [
    "#### Data Preparation & Feature Engineering\n",
    "Preparing data is not an easy task. Initially, our goal was to acquire historical data from major social media platforms to diversify our dataset.\n",
    "However, during the data acquisition process, we encountered various restrictions imposed by large platforms such as Twitter, Meta, and TikTok. Consequently, we decided to focus solely on data from YouTube and Google Trends. This shift allowed us to streamline our data collection efforts and enhance the quality and accessibility of our data.\n",
    "\n",
    "The below code triggers our data alignment and feature creation methods in our TrendProcesses class.\n",
    "Data is grouped by date, and the mean average values of each inital column are used.\n",
    "\n",
    "Features included and created are are:\n",
    "- Video views on the given day.\n",
    "- Video likes on the given day.\n",
    "- Video comments on the given day.\n",
    "- How many days old the video data is - calculated from the last .max() date in the data set, to avoid misrepresenting age when the script is run on a later date.\n",
    "- Views, likes, and comments per day.\n",
    "- The daily likes to views ratio, and the daily comments to views ratio.\n",
    "- The trend to daily views ratio, and the trend to daily likes ratio.\n",
    "- The difference between a given days daily views and the prior day's daily views (\"diff_daily_views\"), and the same difference for likes (\"diff_daily_likes\") and comments.\n",
    "\n",
    "Additionally, a \"calendar\" dataset is generated, which numerically labels which day of the week the date falls on (\"day_number\", 0 being Monday, and 6 being Sunday), and labels if the given date is an American Federal public holiday (\"is_holiday\"). We chose American public holidays, as we estimated that most YouTube news-related videos are targeted at a Western audience, and the largest audience that shares public holiday days is the USA - other western populations have holidays on different days with smaller populations, or overlap with American ones (Christmas etc.).\n",
    "\n",
    "\n",
    "Two datasets are returned - both normalised data and non-normalised data. The calendar and trend data are excluded from normalisation.\n"
   ]
  },
  {
   "cell_type": "code",
   "execution_count": 6,
   "id": "7d546fa5",
   "metadata": {},
   "outputs": [
    {
     "name": "stdout",
     "output_type": "stream",
     "text": [
      "Data columns (same in both sets):\n",
      "Index(['views', 'likes', 'comments', 'trend', 'days_old', 'daily_views',\n",
      "       'daily_likes', 'daily_comments', 'daily_likes_to_views_ratio',\n",
      "       'daily_comments_to_views_ratio', 'trend_to_daily_views_ratio',\n",
      "       'trend_to_daily_likes_ratio', 'diff_daily_views', 'diff_daily_likes',\n",
      "       'diff_daily_comments', 'day_number', 'is_holiday'],\n",
      "      dtype='object')\n",
      "\n",
      "\n",
      "Regular data:\n",
      "                    views         likes     comments  trend  days_old  \\\n",
      "date                                                                    \n",
      "2024-05-03   26737.666667   5386.333333   158.666667   48.0        29   \n",
      "2024-05-04   40893.333333   1800.333333   318.333333   44.0        28   \n",
      "2024-05-05    6026.666667    551.666667    12.000000   42.0        27   \n",
      "2024-05-06  416213.000000  16955.000000  2487.000000   46.0        26   \n",
      "2024-05-07  288151.500000   9613.000000   827.500000   59.0        25   \n",
      "\n",
      "            daily_views  daily_likes  daily_comments  \\\n",
      "date                                                   \n",
      "2024-05-03        921.0        185.0             5.0   \n",
      "2024-05-04       1460.0         64.0            11.0   \n",
      "2024-05-05        223.0         20.0             0.0   \n",
      "2024-05-06      16008.0        652.0            95.0   \n",
      "2024-05-07      11526.0        384.0            33.0   \n",
      "\n",
      "            daily_likes_to_views_ratio  daily_comments_to_views_ratio  \\\n",
      "date                                                                    \n",
      "2024-05-03                         0.0                            0.0   \n",
      "2024-05-04                         0.0                            0.0   \n",
      "2024-05-05                         0.0                            0.0   \n",
      "2024-05-06                         0.0                            0.0   \n",
      "2024-05-07                         0.0                            0.0   \n",
      "\n",
      "            trend_to_daily_views_ratio  trend_to_daily_likes_ratio  \\\n",
      "date                                                                 \n",
      "2024-05-03                         0.0                         0.0   \n",
      "2024-05-04                         0.0                         0.0   \n",
      "2024-05-05                         0.0                         2.0   \n",
      "2024-05-06                         0.0                         0.0   \n",
      "2024-05-07                         0.0                         0.0   \n",
      "\n",
      "            diff_daily_views  diff_daily_likes  diff_daily_comments  \\\n",
      "date                                                                  \n",
      "2024-05-03               0.0               0.0                  0.0   \n",
      "2024-05-04             539.0            -121.0                  6.0   \n",
      "2024-05-05           -1237.0             -44.0                -11.0   \n",
      "2024-05-06           15785.0             632.0                 95.0   \n",
      "2024-05-07           -4482.0            -268.0                -62.0   \n",
      "\n",
      "            day_number  is_holiday  \n",
      "date                                \n",
      "2024-05-03           4           0  \n",
      "2024-05-04           5           0  \n",
      "2024-05-05           6           0  \n",
      "2024-05-06           0           0  \n",
      "2024-05-07           1           0  \n",
      "\n",
      "Normalised data:\n",
      "               views     likes  comments  days_old  daily_views  daily_likes  \\\n",
      "date                                                                           \n",
      "2024-05-03  0.061836  0.131239  0.060986  1.000000     0.025046     0.057153   \n",
      "2024-05-04  0.095934  0.035118  0.122651  0.964286     0.042856     0.015241   \n",
      "2024-05-05  0.011948  0.001648  0.004341  0.928571     0.001983     0.000000   \n",
      "2024-05-06  1.000000  0.441331  0.960220  0.892857     0.523559     0.218912   \n",
      "2024-05-07  0.691527  0.244532  0.319298  0.857143     0.375463     0.126082   \n",
      "\n",
      "            daily_comments  daily_likes_to_views_ratio  \\\n",
      "date                                                     \n",
      "2024-05-03        0.017422                         0.0   \n",
      "2024-05-04        0.038328                         0.0   \n",
      "2024-05-05        0.000000                         0.0   \n",
      "2024-05-06        0.331010                         0.0   \n",
      "2024-05-07        0.114983                         0.0   \n",
      "\n",
      "            daily_comments_to_views_ratio  trend_to_daily_views_ratio  \\\n",
      "date                                                                    \n",
      "2024-05-03                            0.0                         0.0   \n",
      "2024-05-04                            0.0                         0.0   \n",
      "2024-05-05                            0.0                         0.0   \n",
      "2024-05-06                            0.0                         0.0   \n",
      "2024-05-07                            0.0                         0.0   \n",
      "\n",
      "            trend_to_daily_likes_ratio  diff_daily_views  diff_daily_likes  \\\n",
      "date                                                                         \n",
      "2024-05-03                         0.0          0.596026          0.513706   \n",
      "2024-05-04                         0.0          0.607241          0.490988   \n",
      "2024-05-05                         1.0          0.570287          0.505445   \n",
      "2024-05-06                         0.0          0.924469          0.632370   \n",
      "2024-05-07                         0.0          0.502767          0.463387   \n",
      "\n",
      "            diff_daily_comments  trend  day_number  is_holiday  \n",
      "date                                                            \n",
      "2024-05-03             0.623632   48.0           4           0  \n",
      "2024-05-04             0.636761   44.0           5           0  \n",
      "2024-05-05             0.599562   42.0           6           0  \n",
      "2024-05-06             0.831510   46.0           0           0  \n",
      "2024-05-07             0.487965   59.0           1           0  \n"
     ]
    },
    {
     "name": "stderr",
     "output_type": "stream",
     "text": [
      "/home/liam/Documents/Massey Study/158755 - Data Mastery/Project 4 - GROUP/TrendProcesses.py:250: FutureWarning: Setting an item of incompatible dtype is deprecated and will raise an error in a future version of pandas. Value '32.690602142708336' has dtype incompatible with int64, please explicitly cast to a compatible dtype first.\n",
      "  df.loc[df.index.max()] = adjusted_values\n"
     ]
    }
   ],
   "source": [
    "feature_creator = CreateFeatures()\n",
    "data, data_normalised = feature_creator.create_features(trend, yt_data)\n",
    "print(\"Data columns (same in both sets):\")\n",
    "print(data.columns)\n",
    "print('')\n",
    "print('')\n",
    "print(\"Regular data:\")\n",
    "print(data.head())\n",
    "\n",
    "print('')\n",
    "print(\"Normalised data:\")\n",
    "print(data_normalised.head())"
   ]
  },
  {
   "cell_type": "markdown",
   "id": "7fd55821",
   "metadata": {},
   "source": [
    "# EDA/Data Visulisation\n"
   ]
  },
  {
   "cell_type": "markdown",
   "id": "2846e6cf",
   "metadata": {},
   "source": [
    "#### Cluster Analysis"
   ]
  },
  {
   "cell_type": "code",
   "execution_count": null,
   "id": "33324c7e",
   "metadata": {},
   "outputs": [],
   "source": []
  },
  {
   "cell_type": "markdown",
   "id": "d53386a2",
   "metadata": {},
   "source": [
    "#### Correlations\n",
    "Data correlations are also explored in order to find relevant features for inclusion during predictive modelling - although usually a useful tool, due to the nature of this domain and scope of the modelling (with every news item varying in total \"news relevancy\" length), a generated correlation matrix is more useful as a datapoint, to determine if the output prediction model will be useful/accurate or not, rather than strictly as a tool for feature selection.\n",
    "\n",
    "The primary information for this use is to determine lineatiy with the target variable \"trend\" - some correlation is good, but ultra-high collinearity (or having all collinearities be very close to 0) indicates the model will be substandard."
   ]
  },
  {
   "cell_type": "code",
   "execution_count": 7,
   "id": "6f51c4e0",
   "metadata": {},
   "outputs": [
    {
     "data": {
      "application/vnd.plotly.v1+json": {
       "config": {
        "plotlyServerURL": "https://plot.ly"
       },
       "data": [
        {
         "alignmentgroup": "True",
         "hovertemplate": "Feature=%{x}<br>Correlation=%{y}<extra></extra>",
         "legendgroup": "",
         "marker": {
          "color": "#636efa",
          "pattern": {
           "shape": ""
          }
         },
         "name": "",
         "offsetgroup": "",
         "orientation": "v",
         "showlegend": false,
         "textposition": "auto",
         "type": "bar",
         "x": [
          "views",
          "likes",
          "comments",
          "days_old",
          "daily_views",
          "daily_likes",
          "daily_comments",
          "daily_likes_to_views_ratio",
          "daily_comments_to_views_ratio",
          "trend_to_daily_views_ratio",
          "trend_to_daily_likes_ratio",
          "diff_daily_views",
          "diff_daily_likes",
          "diff_daily_comments",
          "day_number",
          "is_holiday"
         ],
         "xaxis": "x",
         "y": [
          -0.02413245731372793,
          -0.1089418589372409,
          0.07743450582696822,
          0.21814136613895896,
          0.033133335016470644,
          0.003760690673172372,
          0.03957512436636665,
          null,
          null,
          null,
          0.2237071579699283,
          0.07527984493899653,
          0.08018338279753946,
          0.16098447854458783,
          -0.2381417674289464,
          -0.13157053948397193
         ],
         "yaxis": "y"
        }
       ],
       "layout": {
        "barmode": "relative",
        "legend": {
         "tracegroupgap": 0
        },
        "template": {
         "data": {
          "bar": [
           {
            "error_x": {
             "color": "#2a3f5f"
            },
            "error_y": {
             "color": "#2a3f5f"
            },
            "marker": {
             "line": {
              "color": "#E5ECF6",
              "width": 0.5
             },
             "pattern": {
              "fillmode": "overlay",
              "size": 10,
              "solidity": 0.2
             }
            },
            "type": "bar"
           }
          ],
          "barpolar": [
           {
            "marker": {
             "line": {
              "color": "#E5ECF6",
              "width": 0.5
             },
             "pattern": {
              "fillmode": "overlay",
              "size": 10,
              "solidity": 0.2
             }
            },
            "type": "barpolar"
           }
          ],
          "carpet": [
           {
            "aaxis": {
             "endlinecolor": "#2a3f5f",
             "gridcolor": "white",
             "linecolor": "white",
             "minorgridcolor": "white",
             "startlinecolor": "#2a3f5f"
            },
            "baxis": {
             "endlinecolor": "#2a3f5f",
             "gridcolor": "white",
             "linecolor": "white",
             "minorgridcolor": "white",
             "startlinecolor": "#2a3f5f"
            },
            "type": "carpet"
           }
          ],
          "choropleth": [
           {
            "colorbar": {
             "outlinewidth": 0,
             "ticks": ""
            },
            "type": "choropleth"
           }
          ],
          "contour": [
           {
            "colorbar": {
             "outlinewidth": 0,
             "ticks": ""
            },
            "colorscale": [
             [
              0,
              "#0d0887"
             ],
             [
              0.1111111111111111,
              "#46039f"
             ],
             [
              0.2222222222222222,
              "#7201a8"
             ],
             [
              0.3333333333333333,
              "#9c179e"
             ],
             [
              0.4444444444444444,
              "#bd3786"
             ],
             [
              0.5555555555555556,
              "#d8576b"
             ],
             [
              0.6666666666666666,
              "#ed7953"
             ],
             [
              0.7777777777777778,
              "#fb9f3a"
             ],
             [
              0.8888888888888888,
              "#fdca26"
             ],
             [
              1,
              "#f0f921"
             ]
            ],
            "type": "contour"
           }
          ],
          "contourcarpet": [
           {
            "colorbar": {
             "outlinewidth": 0,
             "ticks": ""
            },
            "type": "contourcarpet"
           }
          ],
          "heatmap": [
           {
            "colorbar": {
             "outlinewidth": 0,
             "ticks": ""
            },
            "colorscale": [
             [
              0,
              "#0d0887"
             ],
             [
              0.1111111111111111,
              "#46039f"
             ],
             [
              0.2222222222222222,
              "#7201a8"
             ],
             [
              0.3333333333333333,
              "#9c179e"
             ],
             [
              0.4444444444444444,
              "#bd3786"
             ],
             [
              0.5555555555555556,
              "#d8576b"
             ],
             [
              0.6666666666666666,
              "#ed7953"
             ],
             [
              0.7777777777777778,
              "#fb9f3a"
             ],
             [
              0.8888888888888888,
              "#fdca26"
             ],
             [
              1,
              "#f0f921"
             ]
            ],
            "type": "heatmap"
           }
          ],
          "heatmapgl": [
           {
            "colorbar": {
             "outlinewidth": 0,
             "ticks": ""
            },
            "colorscale": [
             [
              0,
              "#0d0887"
             ],
             [
              0.1111111111111111,
              "#46039f"
             ],
             [
              0.2222222222222222,
              "#7201a8"
             ],
             [
              0.3333333333333333,
              "#9c179e"
             ],
             [
              0.4444444444444444,
              "#bd3786"
             ],
             [
              0.5555555555555556,
              "#d8576b"
             ],
             [
              0.6666666666666666,
              "#ed7953"
             ],
             [
              0.7777777777777778,
              "#fb9f3a"
             ],
             [
              0.8888888888888888,
              "#fdca26"
             ],
             [
              1,
              "#f0f921"
             ]
            ],
            "type": "heatmapgl"
           }
          ],
          "histogram": [
           {
            "marker": {
             "pattern": {
              "fillmode": "overlay",
              "size": 10,
              "solidity": 0.2
             }
            },
            "type": "histogram"
           }
          ],
          "histogram2d": [
           {
            "colorbar": {
             "outlinewidth": 0,
             "ticks": ""
            },
            "colorscale": [
             [
              0,
              "#0d0887"
             ],
             [
              0.1111111111111111,
              "#46039f"
             ],
             [
              0.2222222222222222,
              "#7201a8"
             ],
             [
              0.3333333333333333,
              "#9c179e"
             ],
             [
              0.4444444444444444,
              "#bd3786"
             ],
             [
              0.5555555555555556,
              "#d8576b"
             ],
             [
              0.6666666666666666,
              "#ed7953"
             ],
             [
              0.7777777777777778,
              "#fb9f3a"
             ],
             [
              0.8888888888888888,
              "#fdca26"
             ],
             [
              1,
              "#f0f921"
             ]
            ],
            "type": "histogram2d"
           }
          ],
          "histogram2dcontour": [
           {
            "colorbar": {
             "outlinewidth": 0,
             "ticks": ""
            },
            "colorscale": [
             [
              0,
              "#0d0887"
             ],
             [
              0.1111111111111111,
              "#46039f"
             ],
             [
              0.2222222222222222,
              "#7201a8"
             ],
             [
              0.3333333333333333,
              "#9c179e"
             ],
             [
              0.4444444444444444,
              "#bd3786"
             ],
             [
              0.5555555555555556,
              "#d8576b"
             ],
             [
              0.6666666666666666,
              "#ed7953"
             ],
             [
              0.7777777777777778,
              "#fb9f3a"
             ],
             [
              0.8888888888888888,
              "#fdca26"
             ],
             [
              1,
              "#f0f921"
             ]
            ],
            "type": "histogram2dcontour"
           }
          ],
          "mesh3d": [
           {
            "colorbar": {
             "outlinewidth": 0,
             "ticks": ""
            },
            "type": "mesh3d"
           }
          ],
          "parcoords": [
           {
            "line": {
             "colorbar": {
              "outlinewidth": 0,
              "ticks": ""
             }
            },
            "type": "parcoords"
           }
          ],
          "pie": [
           {
            "automargin": true,
            "type": "pie"
           }
          ],
          "scatter": [
           {
            "fillpattern": {
             "fillmode": "overlay",
             "size": 10,
             "solidity": 0.2
            },
            "type": "scatter"
           }
          ],
          "scatter3d": [
           {
            "line": {
             "colorbar": {
              "outlinewidth": 0,
              "ticks": ""
             }
            },
            "marker": {
             "colorbar": {
              "outlinewidth": 0,
              "ticks": ""
             }
            },
            "type": "scatter3d"
           }
          ],
          "scattercarpet": [
           {
            "marker": {
             "colorbar": {
              "outlinewidth": 0,
              "ticks": ""
             }
            },
            "type": "scattercarpet"
           }
          ],
          "scattergeo": [
           {
            "marker": {
             "colorbar": {
              "outlinewidth": 0,
              "ticks": ""
             }
            },
            "type": "scattergeo"
           }
          ],
          "scattergl": [
           {
            "marker": {
             "colorbar": {
              "outlinewidth": 0,
              "ticks": ""
             }
            },
            "type": "scattergl"
           }
          ],
          "scattermapbox": [
           {
            "marker": {
             "colorbar": {
              "outlinewidth": 0,
              "ticks": ""
             }
            },
            "type": "scattermapbox"
           }
          ],
          "scatterpolar": [
           {
            "marker": {
             "colorbar": {
              "outlinewidth": 0,
              "ticks": ""
             }
            },
            "type": "scatterpolar"
           }
          ],
          "scatterpolargl": [
           {
            "marker": {
             "colorbar": {
              "outlinewidth": 0,
              "ticks": ""
             }
            },
            "type": "scatterpolargl"
           }
          ],
          "scatterternary": [
           {
            "marker": {
             "colorbar": {
              "outlinewidth": 0,
              "ticks": ""
             }
            },
            "type": "scatterternary"
           }
          ],
          "surface": [
           {
            "colorbar": {
             "outlinewidth": 0,
             "ticks": ""
            },
            "colorscale": [
             [
              0,
              "#0d0887"
             ],
             [
              0.1111111111111111,
              "#46039f"
             ],
             [
              0.2222222222222222,
              "#7201a8"
             ],
             [
              0.3333333333333333,
              "#9c179e"
             ],
             [
              0.4444444444444444,
              "#bd3786"
             ],
             [
              0.5555555555555556,
              "#d8576b"
             ],
             [
              0.6666666666666666,
              "#ed7953"
             ],
             [
              0.7777777777777778,
              "#fb9f3a"
             ],
             [
              0.8888888888888888,
              "#fdca26"
             ],
             [
              1,
              "#f0f921"
             ]
            ],
            "type": "surface"
           }
          ],
          "table": [
           {
            "cells": {
             "fill": {
              "color": "#EBF0F8"
             },
             "line": {
              "color": "white"
             }
            },
            "header": {
             "fill": {
              "color": "#C8D4E3"
             },
             "line": {
              "color": "white"
             }
            },
            "type": "table"
           }
          ]
         },
         "layout": {
          "annotationdefaults": {
           "arrowcolor": "#2a3f5f",
           "arrowhead": 0,
           "arrowwidth": 1
          },
          "autotypenumbers": "strict",
          "coloraxis": {
           "colorbar": {
            "outlinewidth": 0,
            "ticks": ""
           }
          },
          "colorscale": {
           "diverging": [
            [
             0,
             "#8e0152"
            ],
            [
             0.1,
             "#c51b7d"
            ],
            [
             0.2,
             "#de77ae"
            ],
            [
             0.3,
             "#f1b6da"
            ],
            [
             0.4,
             "#fde0ef"
            ],
            [
             0.5,
             "#f7f7f7"
            ],
            [
             0.6,
             "#e6f5d0"
            ],
            [
             0.7,
             "#b8e186"
            ],
            [
             0.8,
             "#7fbc41"
            ],
            [
             0.9,
             "#4d9221"
            ],
            [
             1,
             "#276419"
            ]
           ],
           "sequential": [
            [
             0,
             "#0d0887"
            ],
            [
             0.1111111111111111,
             "#46039f"
            ],
            [
             0.2222222222222222,
             "#7201a8"
            ],
            [
             0.3333333333333333,
             "#9c179e"
            ],
            [
             0.4444444444444444,
             "#bd3786"
            ],
            [
             0.5555555555555556,
             "#d8576b"
            ],
            [
             0.6666666666666666,
             "#ed7953"
            ],
            [
             0.7777777777777778,
             "#fb9f3a"
            ],
            [
             0.8888888888888888,
             "#fdca26"
            ],
            [
             1,
             "#f0f921"
            ]
           ],
           "sequentialminus": [
            [
             0,
             "#0d0887"
            ],
            [
             0.1111111111111111,
             "#46039f"
            ],
            [
             0.2222222222222222,
             "#7201a8"
            ],
            [
             0.3333333333333333,
             "#9c179e"
            ],
            [
             0.4444444444444444,
             "#bd3786"
            ],
            [
             0.5555555555555556,
             "#d8576b"
            ],
            [
             0.6666666666666666,
             "#ed7953"
            ],
            [
             0.7777777777777778,
             "#fb9f3a"
            ],
            [
             0.8888888888888888,
             "#fdca26"
            ],
            [
             1,
             "#f0f921"
            ]
           ]
          },
          "colorway": [
           "#636efa",
           "#EF553B",
           "#00cc96",
           "#ab63fa",
           "#FFA15A",
           "#19d3f3",
           "#FF6692",
           "#B6E880",
           "#FF97FF",
           "#FECB52"
          ],
          "font": {
           "color": "#2a3f5f"
          },
          "geo": {
           "bgcolor": "white",
           "lakecolor": "white",
           "landcolor": "#E5ECF6",
           "showlakes": true,
           "showland": true,
           "subunitcolor": "white"
          },
          "hoverlabel": {
           "align": "left"
          },
          "hovermode": "closest",
          "mapbox": {
           "style": "light"
          },
          "paper_bgcolor": "white",
          "plot_bgcolor": "#E5ECF6",
          "polar": {
           "angularaxis": {
            "gridcolor": "white",
            "linecolor": "white",
            "ticks": ""
           },
           "bgcolor": "#E5ECF6",
           "radialaxis": {
            "gridcolor": "white",
            "linecolor": "white",
            "ticks": ""
           }
          },
          "scene": {
           "xaxis": {
            "backgroundcolor": "#E5ECF6",
            "gridcolor": "white",
            "gridwidth": 2,
            "linecolor": "white",
            "showbackground": true,
            "ticks": "",
            "zerolinecolor": "white"
           },
           "yaxis": {
            "backgroundcolor": "#E5ECF6",
            "gridcolor": "white",
            "gridwidth": 2,
            "linecolor": "white",
            "showbackground": true,
            "ticks": "",
            "zerolinecolor": "white"
           },
           "zaxis": {
            "backgroundcolor": "#E5ECF6",
            "gridcolor": "white",
            "gridwidth": 2,
            "linecolor": "white",
            "showbackground": true,
            "ticks": "",
            "zerolinecolor": "white"
           }
          },
          "shapedefaults": {
           "line": {
            "color": "#2a3f5f"
           }
          },
          "ternary": {
           "aaxis": {
            "gridcolor": "white",
            "linecolor": "white",
            "ticks": ""
           },
           "baxis": {
            "gridcolor": "white",
            "linecolor": "white",
            "ticks": ""
           },
           "bgcolor": "#E5ECF6",
           "caxis": {
            "gridcolor": "white",
            "linecolor": "white",
            "ticks": ""
           }
          },
          "title": {
           "x": 0.05
          },
          "xaxis": {
           "automargin": true,
           "gridcolor": "white",
           "linecolor": "white",
           "ticks": "",
           "title": {
            "standoff": 15
           },
           "zerolinecolor": "white",
           "zerolinewidth": 2
          },
          "yaxis": {
           "automargin": true,
           "gridcolor": "white",
           "linecolor": "white",
           "ticks": "",
           "title": {
            "standoff": 15
           },
           "zerolinecolor": "white",
           "zerolinewidth": 2
          }
         }
        },
        "title": {
         "text": "Feature Correlation to Google Trend"
        },
        "xaxis": {
         "anchor": "y",
         "domain": [
          0,
          1
         ],
         "title": {
          "text": "Feature"
         }
        },
        "yaxis": {
         "anchor": "x",
         "domain": [
          0,
          1
         ],
         "title": {
          "text": "Correlation"
         }
        }
       }
      }
     },
     "metadata": {},
     "output_type": "display_data"
    }
   ],
   "source": [
    "analyser = RunAnalysis()\n",
    "corr_matrix_norm = analyser.get_corr_matrix(data_normalised)\n",
    "\n",
    "fig = px.bar(corr_matrix_norm, x='Feature', y='Correlation', title='Feature Correlation to Google Trend')\n",
    "fig.show()\n"
   ]
  },
  {
   "cell_type": "markdown",
   "id": "71af8ba3",
   "metadata": {},
   "source": [
    "# Predictive Modelling\n",
    "\n",
    "NOTES:\n",
    "kNN, Linear Regression, and Decision Tree models for now.\n",
    "Each model will have a plot showing the accuracy of predictions against the real trend data.\n",
    "Only plot the final versions of each model - talk about the iterations of parameters/features used that got you there!\n"
   ]
  },
  {
   "cell_type": "code",
   "execution_count": null,
   "id": "f40c7e58",
   "metadata": {},
   "outputs": [],
   "source": []
  },
  {
   "cell_type": "markdown",
   "id": "debf6a18",
   "metadata": {},
   "source": [
    "# The Trend Predictor App\n",
    "\n",
    "NOTES:\n",
    "I will discuss & show screenshots of:\n",
    "The nodejs local version vs streamlit version.\n",
    "The reasoning behind the presentation layout and data/graphs included."
   ]
  },
  {
   "cell_type": "code",
   "execution_count": null,
   "id": "885af68c",
   "metadata": {},
   "outputs": [],
   "source": [
    "\n"
   ]
  },
  {
   "cell_type": "markdown",
   "id": "46fcda90",
   "metadata": {},
   "source": [
    "# Conclusion \n",
    "\n",
    "The development of The News Trend Predictor app provided valuable insights into the complexities of predictive modelling for news trends. One of the primary challenges we encountered was accessing high-quality historical data due to stringent requirements from platforms like Twitter, Meta, and TikTok. This obstacle led us to pivot towards using YouTube and Google Trends data, which were more accessible and relevant to our needs. This strategic decision allowed us to streamline our data analysis process and improve the overall quality of our findings. Additionally, the server-side integration process underscored the importance of managing Python versions to ensure compatibility and efficient API call management to avoid issues like the 429 errors encountered with Google Pytrends.\n",
    "\n",
    "Our findings highlighted the critical importance of sufficient data quantities and appropriate feature selection in predictive modelling. Small datasets led to unstable coefficients and poor predictive performance in linear regression models (Wilstrup & Kasak, 2021), while KNN models struggled with classification accuracy due to insufficient neighbouring data points (Wilstrup & Kasak, 2022). Moreover, the presence of highly correlated features increased the risk of overfitting, emphasising the need for regularisation techniques to enhance model generalisation (Ajitesh Kumar, 2024; Genuer et al., 2010). These insights are invaluable for future developments in predictive modelling and content strategy optimisation, providing a solid foundation for further research and practical applications in this domain.\n",
    "\n",
    "\n",
    "#### Main Challenges\n",
    "Data Collection:\n",
    "API Issues: Many websites, including major platforms such as Meta and TikTok, require application registration, the upload of personal identification, and a clear explanation of the data collection purpose.\n",
    "\n",
    "Server-Side Integration:\n",
    "The server, running JavaScript, triggers Python scripts. The code must first determine the Python version being used by the user. If the versions do not match, the server must align with the user's version to ensure compatibility and detect any issues.\n",
    "\n",
    "API Call Restrictions:\n",
    "The imposed limit of 600 API calls can be restrictive. For instance, processing a single video might necessitate 600 API calls. Processing multiple videos will thus exceed the API call limit, necessitating careful management and optimization.\n",
    "\n",
    "Modeling Considerations:\n",
    "\n",
    "Overfitting Concerns:\n",
    "The potential for model overfitting is heightened due to the presence of high correlations among many features.\n",
    "Iterative Modeling: Emphasizing the importance of iterative modeling to address and mitigate the overfitting issue and enhance model performance.\n",
    "\n",
    "\n",
    "### Key findings:\n",
    "\n",
    "1. Lorem ipsum dolor sit amet\n",
    "2. Lorem ipsum dolor sit amet\n",
    "3. Lorem ipsum dolor sit amet\n",
    "4. ..."
   ]
  },
  {
   "cell_type": "code",
   "execution_count": null,
   "id": "291ea278",
   "metadata": {},
   "outputs": [],
   "source": []
  },
  {
   "cell_type": "markdown",
   "id": "b48bed72",
   "metadata": {},
   "source": [
    "# Bibliography (optional) "
   ]
  },
  {
   "cell_type": "markdown",
   "id": "7855f828",
   "metadata": {},
   "source": []
  }
 ],
 "metadata": {
  "kernelspec": {
   "display_name": "Python 3 (ipykernel)",
   "language": "python",
   "name": "python3"
  },
  "language_info": {
   "codemirror_mode": {
    "name": "ipython",
    "version": 3
   },
   "file_extension": ".py",
   "mimetype": "text/x-python",
   "name": "python",
   "nbconvert_exporter": "python",
   "pygments_lexer": "ipython3",
   "version": "3.10.12"
  }
 },
 "nbformat": 4,
 "nbformat_minor": 5
}
